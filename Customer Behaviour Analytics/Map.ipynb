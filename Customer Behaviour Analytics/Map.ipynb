{
 "cells": [
  {
   "cell_type": "code",
   "execution_count": 36,
   "id": "a0b097ac",
   "metadata": {},
   "outputs": [],
   "source": [
    "import numpy as np\n",
    "import pandas as pd\n",
    "import matplotlib as mpl\n",
    "import matplotlib.pyplot as plt\n",
    "import seaborn as sns\n",
    "import folium\n",
    "import json"
   ]
  },
  {
   "cell_type": "code",
   "execution_count": 37,
   "id": "6b69f4b3",
   "metadata": {},
   "outputs": [],
   "source": [
    "from  folium.plugins import HeatMap\n",
    "dataset = pd.read_csv(\"sf18_count_location.csv\")"
   ]
  },
  {
   "cell_type": "code",
   "execution_count": 38,
   "id": "ab427f84",
   "metadata": {},
   "outputs": [
    {
     "data": {
      "text/plain": [
       "Unnamed: 0                 332\n",
       "station_name               332\n",
       "counts for station_name    332\n",
       "lat                        332\n",
       "lng                        332\n",
       "dtype: int64"
      ]
     },
     "execution_count": 38,
     "metadata": {},
     "output_type": "execute_result"
    }
   ],
   "source": [
    "dataset.count()"
   ]
  },
  {
   "cell_type": "code",
   "execution_count": 39,
   "id": "ec2d7b2e",
   "metadata": {},
   "outputs": [
    {
     "data": {
      "text/html": [
       "<div>\n",
       "<style scoped>\n",
       "    .dataframe tbody tr th:only-of-type {\n",
       "        vertical-align: middle;\n",
       "    }\n",
       "\n",
       "    .dataframe tbody tr th {\n",
       "        vertical-align: top;\n",
       "    }\n",
       "\n",
       "    .dataframe thead th {\n",
       "        text-align: right;\n",
       "    }\n",
       "</style>\n",
       "<table border=\"1\" class=\"dataframe\">\n",
       "  <thead>\n",
       "    <tr style=\"text-align: right;\">\n",
       "      <th></th>\n",
       "      <th>Unnamed: 0</th>\n",
       "      <th>station_name</th>\n",
       "      <th>counts for station_name</th>\n",
       "      <th>lat</th>\n",
       "      <th>lng</th>\n",
       "    </tr>\n",
       "  </thead>\n",
       "  <tbody>\n",
       "    <tr>\n",
       "      <th>0</th>\n",
       "      <td>0</td>\n",
       "      <td>San Francisco Caltrain Station 2  (Townsend St...</td>\n",
       "      <td>86598</td>\n",
       "      <td>37.776639</td>\n",
       "      <td>-122.395526</td>\n",
       "    </tr>\n",
       "    <tr>\n",
       "      <th>1</th>\n",
       "      <td>1</td>\n",
       "      <td>San Francisco Ferry Building (Harry Bridges Pl...</td>\n",
       "      <td>82258</td>\n",
       "      <td>37.795392</td>\n",
       "      <td>-122.394203</td>\n",
       "    </tr>\n",
       "    <tr>\n",
       "      <th>2</th>\n",
       "      <td>2</td>\n",
       "      <td>San Francisco Caltrain (Townsend St at 4th St)</td>\n",
       "      <td>76478</td>\n",
       "      <td>37.776598</td>\n",
       "      <td>-122.395282</td>\n",
       "    </tr>\n",
       "    <tr>\n",
       "      <th>3</th>\n",
       "      <td>3</td>\n",
       "      <td>The Embarcadero at Sansome St</td>\n",
       "      <td>72114</td>\n",
       "      <td>37.804770</td>\n",
       "      <td>-122.403234</td>\n",
       "    </tr>\n",
       "    <tr>\n",
       "      <th>4</th>\n",
       "      <td>4</td>\n",
       "      <td>Market St at 10th St</td>\n",
       "      <td>69059</td>\n",
       "      <td>37.776619</td>\n",
       "      <td>-122.417385</td>\n",
       "    </tr>\n",
       "  </tbody>\n",
       "</table>\n",
       "</div>"
      ],
      "text/plain": [
       "   Unnamed: 0                                       station_name  \\\n",
       "0           0  San Francisco Caltrain Station 2  (Townsend St...   \n",
       "1           1  San Francisco Ferry Building (Harry Bridges Pl...   \n",
       "2           2     San Francisco Caltrain (Townsend St at 4th St)   \n",
       "3           3                      The Embarcadero at Sansome St   \n",
       "4           4                               Market St at 10th St   \n",
       "\n",
       "   counts for station_name        lat         lng  \n",
       "0                    86598  37.776639 -122.395526  \n",
       "1                    82258  37.795392 -122.394203  \n",
       "2                    76478  37.776598 -122.395282  \n",
       "3                    72114  37.804770 -122.403234  \n",
       "4                    69059  37.776619 -122.417385  "
      ]
     },
     "execution_count": 39,
     "metadata": {},
     "output_type": "execute_result"
    }
   ],
   "source": [
    "dataset.head()"
   ]
  },
  {
   "cell_type": "code",
   "execution_count": 40,
   "id": "1e54a541",
   "metadata": {},
   "outputs": [],
   "source": [
    "data = dataset[['lat', 'lng', 'counts for station_name']].values.tolist()\n",
    "hmap = folium.Map(location=[37.4700, -122.2500], tiles='stamentoner',\n",
    "                  control_scale=True, zoom_start=10)\n",
    "hmap.add_child(HeatMap(data))\n",
    "file_path = r\"test1.html\"\n",
    "hmap.save(file_path)  # save the map as html file"
   ]
  },
  {
   "cell_type": "code",
   "execution_count": null,
   "id": "f3f0198a",
   "metadata": {},
   "outputs": [],
   "source": []
  }
 ],
 "metadata": {
  "kernelspec": {
   "display_name": "Python 3 (ipykernel)",
   "language": "python",
   "name": "python3"
  },
  "language_info": {
   "codemirror_mode": {
    "name": "ipython",
    "version": 3
   },
   "file_extension": ".py",
   "mimetype": "text/x-python",
   "name": "python",
   "nbconvert_exporter": "python",
   "pygments_lexer": "ipython3",
   "version": "3.9.7"
  }
 },
 "nbformat": 4,
 "nbformat_minor": 5
}
